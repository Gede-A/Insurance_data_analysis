{
 "cells": [
  {
   "cell_type": "code",
   "execution_count": 1,
   "id": "d0018658-efdd-4fd5-8ff8-9e1ed82cfab9",
   "metadata": {},
   "outputs": [
    {
     "name": "stdout",
     "output_type": "stream",
     "text": [
      "   UnderwrittenCoverID  PolicyID     TransactionMonth  IsVATRegistered  \\\n",
      "0               145249     12827  2015-03-01 00:00:00             True   \n",
      "\n",
      "  Citizenship          LegalType Title Language                 Bank  \\\n",
      "0              Close Corporation    Mr  English  First National Bank   \n",
      "\n",
      "       AccountType  ...         ExcessSelected CoverCategory   CoverType  \\\n",
      "0  Current account  ...  Mobility - Windscreen    Windscreen  Windscreen   \n",
      "\n",
      "             CoverGroup              Section                          Product  \\\n",
      "0  Comprehensive - Taxi  Motor Comprehensive  Mobility Metered Taxis: Monthly   \n",
      "\n",
      "  StatutoryClass StatutoryRiskType  TotalPremium TotalClaims  \n",
      "0     Commercial     IFRS Constant     21.929825         0.0  \n",
      "\n",
      "[1 rows x 52 columns]\n"
     ]
    }
   ],
   "source": [
    "import pandas as pd\n",
    "\n",
    "# Define the column names\n",
    "columns = [\n",
    "    \"UnderwrittenCoverID\", \"PolicyID\", \"TransactionMonth\", \"IsVATRegistered\", \"Citizenship\", \"LegalType\", \n",
    "    \"Title\", \"Language\", \"Bank\", \"AccountType\", \"MaritalStatus\", \"Gender\", \"Country\", \"Province\", \"PostalCode\", \n",
    "    \"MainCrestaZone\", \"SubCrestaZone\", \"ItemType\", \"mmcode\", \"VehicleType\", \"RegistrationYear\", \"make\", \"Model\", \n",
    "    \"Cylinders\", \"cubiccapacity\", \"kilowatts\", \"bodytype\", \"NumberOfDoors\", \"VehicleIntroDate\", \n",
    "    \"CustomValueEstimate\", \"AlarmImmobiliser\", \"TrackingDevice\", \"CapitalOutstanding\", \"NewVehicle\", \"WrittenOff\", \n",
    "    \"Rebuilt\", \"Converted\", \"CrossBorder\", \"NumberOfVehiclesInFleet\", \"SumInsured\", \"TermFrequency\", \n",
    "    \"CalculatedPremiumPerTerm\", \"ExcessSelected\", \"CoverCategory\", \"CoverType\", \"CoverGroup\", \"Section\", \n",
    "    \"Product\", \"StatutoryClass\", \"StatutoryRiskType\", \"TotalPremium\", \"TotalClaims\"\n",
    "]\n",
    "\n",
    "# Read the file directly (adjust the path as necessary)\n",
    "df = pd.read_csv(r'..\\MachineLearningRating.txt', sep='|', header=None, names=columns, low_memory=False)\n",
    "\n",
    "# Print the first few rows of the DataFrame\n",
    "print(df.head(1))\n"
   ]
  },
  {
   "cell_type": "code",
   "execution_count": 2,
   "id": "97a7fbd0-bcce-48f8-9a29-f9cee456ae76",
   "metadata": {},
   "outputs": [
    {
     "name": "stdout",
     "output_type": "stream",
     "text": [
      "ANOVA F-statistic: 5.8494137624076075\n",
      "ANOVA p-value: 1.6782057588675903e-07\n",
      "Reject the Null Hypothesis: There are significant risk differences across provinces.\n"
     ]
    }
   ],
   "source": [
    "from scipy import stats\n",
    "\n",
    "# Group by province and get the risk metric (e.g., TotalClaims or TotalPremium)\n",
    "provinces = df['Province'].unique()\n",
    "\n",
    "# Perform one-way ANOVA for TotalClaims across provinces\n",
    "anova_result = stats.f_oneway(*(df[df['Province'] == prov]['TotalClaims'] for prov in provinces))\n",
    "\n",
    "print(f\"ANOVA F-statistic: {anova_result.statistic}\")\n",
    "print(f\"ANOVA p-value: {anova_result.pvalue}\")\n",
    "\n",
    "# Interpretation\n",
    "alpha = 0.05\n",
    "if anova_result.pvalue < alpha:\n",
    "    print(\"Reject the Null Hypothesis: There are significant risk differences across provinces.\")\n",
    "else:\n",
    "    print(\"Fail to reject the Null Hypothesis: There are no significant risk differences across provinces.\")\n"
   ]
  },
  {
   "cell_type": "code",
   "execution_count": 3,
   "id": "e04ff0ad-da96-42ee-8afb-74a927b752ac",
   "metadata": {},
   "outputs": [
    {
     "name": "stdout",
     "output_type": "stream",
     "text": [
      "ANOVA F-statistic: 0.9419762214391849\n",
      "ANOVA p-value: 0.8906511279164051\n",
      "Fail to reject the Null Hypothesis: There are no significant risk differences between zip codes.\n"
     ]
    }
   ],
   "source": [
    "zip_codes = df['PostalCode'].unique()\n",
    "\n",
    "# Perform one-way ANOVA for TotalClaims across zip codes\n",
    "anova_zip_result = stats.f_oneway(*(df[df['PostalCode'] == zip_code]['TotalClaims'] for zip_code in zip_codes))\n",
    "\n",
    "print(f\"ANOVA F-statistic: {anova_zip_result.statistic}\")\n",
    "print(f\"ANOVA p-value: {anova_zip_result.pvalue}\")\n",
    "\n",
    "# Interpretation\n",
    "if anova_zip_result.pvalue < alpha:\n",
    "    print(\"Reject the Null Hypothesis: There are significant risk differences between zip codes.\")\n",
    "else:\n",
    "    print(\"Fail to reject the Null Hypothesis: There are no significant risk differences between zip codes.\")\n"
   ]
  },
  {
   "cell_type": "code",
   "execution_count": 4,
   "id": "82ee6334-9bf9-496f-b347-5e24ccba51a7",
   "metadata": {},
   "outputs": [
    {
     "name": "stdout",
     "output_type": "stream",
     "text": [
      "ANOVA F-statistic: 0.8707474893589263\n",
      "ANOVA p-value: 0.9976859758015036\n",
      "Fail to reject the Null Hypothesis: There are no significant margin differences between zip codes.\n"
     ]
    }
   ],
   "source": [
    "# Calculate profit margin as TotalPremium - TotalClaims\n",
    "df['ProfitMargin'] = df['TotalPremium'] - df['TotalClaims']\n",
    "\n",
    "# Perform ANOVA for ProfitMargin across zip codes\n",
    "anova_margin_result = stats.f_oneway(*(df[df['PostalCode'] == zip_code]['ProfitMargin'] for zip_code in zip_codes))\n",
    "\n",
    "print(f\"ANOVA F-statistic: {anova_margin_result.statistic}\")\n",
    "print(f\"ANOVA p-value: {anova_margin_result.pvalue}\")\n",
    "\n",
    "# Interpretation\n",
    "if anova_margin_result.pvalue < alpha:\n",
    "    print(\"Reject the Null Hypothesis: There are significant margin differences between zip codes.\")\n",
    "else:\n",
    "    print(\"Fail to reject the Null Hypothesis: There are no significant margin differences between zip codes.\")\n"
   ]
  },
  {
   "cell_type": "code",
   "execution_count": null,
   "id": "4a58e3fb-cd58-49d1-a905-e69a04069217",
   "metadata": {},
   "outputs": [],
   "source": []
  }
 ],
 "metadata": {
  "kernelspec": {
   "display_name": "Python 3 (ipykernel)",
   "language": "python",
   "name": "python3"
  },
  "language_info": {
   "codemirror_mode": {
    "name": "ipython",
    "version": 3
   },
   "file_extension": ".py",
   "mimetype": "text/x-python",
   "name": "python",
   "nbconvert_exporter": "python",
   "pygments_lexer": "ipython3",
   "version": "3.12.4"
  }
 },
 "nbformat": 4,
 "nbformat_minor": 5
}
