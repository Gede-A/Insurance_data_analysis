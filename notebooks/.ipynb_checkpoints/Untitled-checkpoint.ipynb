{
 "cells": [
  {
   "cell_type": "code",
   "execution_count": 1,
   "id": "1ee598f9-97c3-426c-a400-325ba5efd21b",
   "metadata": {},
   "outputs": [
    {
     "name": "stdout",
     "output_type": "stream",
     "text": [
      "Requirement already satisfied: pandas in c:\\users\\craftsoft\\appdata\\local\\programs\\python\\python312\\lib\\site-packages (2.2.2)\n",
      "Requirement already satisfied: numpy>=1.26.0 in c:\\users\\craftsoft\\appdata\\local\\programs\\python\\python312\\lib\\site-packages (from pandas) (2.1.0)\n",
      "Requirement already satisfied: python-dateutil>=2.8.2 in c:\\users\\craftsoft\\appdata\\local\\programs\\python\\python312\\lib\\site-packages (from pandas) (2.9.0.post0)\n",
      "Requirement already satisfied: pytz>=2020.1 in c:\\users\\craftsoft\\appdata\\local\\programs\\python\\python312\\lib\\site-packages (from pandas) (2024.1)\n",
      "Requirement already satisfied: tzdata>=2022.7 in c:\\users\\craftsoft\\appdata\\local\\programs\\python\\python312\\lib\\site-packages (from pandas) (2024.1)\n",
      "Requirement already satisfied: six>=1.5 in c:\\users\\craftsoft\\appdata\\local\\programs\\python\\python312\\lib\\site-packages (from python-dateutil>=2.8.2->pandas) (1.16.0)\n",
      "Note: you may need to restart the kernel to use updated packages.\n"
     ]
    }
   ],
   "source": [
    "pip install pandas\n"
   ]
  },
  {
   "cell_type": "code",
   "execution_count": 1,
   "id": "b3a45b36-7ed4-47fb-8cd9-12941b429d7d",
   "metadata": {},
   "outputs": [
    {
     "name": "stdout",
     "output_type": "stream",
     "text": [
      "   UnderwrittenCoverID  PolicyID     TransactionMonth  IsVATRegistered  \\\n",
      "0               145249     12827  2015-03-01 00:00:00             True   \n",
      "\n",
      "  Citizenship          LegalType Title Language                 Bank  \\\n",
      "0              Close Corporation    Mr  English  First National Bank   \n",
      "\n",
      "       AccountType  ...         ExcessSelected CoverCategory   CoverType  \\\n",
      "0  Current account  ...  Mobility - Windscreen    Windscreen  Windscreen   \n",
      "\n",
      "             CoverGroup              Section                          Product  \\\n",
      "0  Comprehensive - Taxi  Motor Comprehensive  Mobility Metered Taxis: Monthly   \n",
      "\n",
      "  StatutoryClass StatutoryRiskType  TotalPremium TotalClaims  \n",
      "0     Commercial     IFRS Constant     21.929825         0.0  \n",
      "\n",
      "[1 rows x 52 columns]\n"
     ]
    }
   ],
   "source": [
    "import pandas as pd\n",
    "\n",
    "# Define the column names\n",
    "columns = [\n",
    "    \"UnderwrittenCoverID\", \"PolicyID\", \"TransactionMonth\", \"IsVATRegistered\", \"Citizenship\", \"LegalType\", \n",
    "    \"Title\", \"Language\", \"Bank\", \"AccountType\", \"MaritalStatus\", \"Gender\", \"Country\", \"Province\", \"PostalCode\", \n",
    "    \"MainCrestaZone\", \"SubCrestaZone\", \"ItemType\", \"mmcode\", \"VehicleType\", \"RegistrationYear\", \"make\", \"Model\", \n",
    "    \"Cylinders\", \"cubiccapacity\", \"kilowatts\", \"bodytype\", \"NumberOfDoors\", \"VehicleIntroDate\", \n",
    "    \"CustomValueEstimate\", \"AlarmImmobiliser\", \"TrackingDevice\", \"CapitalOutstanding\", \"NewVehicle\", \"WrittenOff\", \n",
    "    \"Rebuilt\", \"Converted\", \"CrossBorder\", \"NumberOfVehiclesInFleet\", \"SumInsured\", \"TermFrequency\", \n",
    "    \"CalculatedPremiumPerTerm\", \"ExcessSelected\", \"CoverCategory\", \"CoverType\", \"CoverGroup\", \"Section\", \n",
    "    \"Product\", \"StatutoryClass\", \"StatutoryRiskType\", \"TotalPremium\", \"TotalClaims\"\n",
    "]\n",
    "\n",
    "# Read the file directly (adjust the path as necessary)\n",
    "df = pd.read_csv(r'..\\data\\MachineLearningRating\\MachineLearningRating.txt', sep='|', header=None, names=columns, low_memory=False)\n",
    "\n",
    "# Print the first few rows of the DataFrame\n",
    "print(df.head(1))\n"
   ]
  },
  {
   "cell_type": "markdown",
   "id": "5f5f4060-8143-4b90-bd28-44a21544aa2b",
   "metadata": {},
   "source": [
    "numerical_columns = df.select_dtypes()"
   ]
  }
 ],
 "metadata": {
  "kernelspec": {
   "display_name": "Python 3 (ipykernel)",
   "language": "python",
   "name": "python3"
  },
  "language_info": {
   "codemirror_mode": {
    "name": "ipython",
    "version": 3
   },
   "file_extension": ".py",
   "mimetype": "text/x-python",
   "name": "python",
   "nbconvert_exporter": "python",
   "pygments_lexer": "ipython3",
   "version": "3.12.4"
  }
 },
 "nbformat": 4,
 "nbformat_minor": 5
}
